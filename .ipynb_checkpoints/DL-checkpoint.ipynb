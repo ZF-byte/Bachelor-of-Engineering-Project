{
 "cells": [
  {
   "cell_type": "code",
   "execution_count": 5,
   "id": "057a2e3e",
   "metadata": {},
   "outputs": [],
   "source": [
    "import random\n",
    "import string\n",
    "import secrets\n",
    "from captcha.image import ImageCaptcha\n",
    "import os\n",
    "characters = string.ascii_letters+string.digits\n",
    "# characters = string.ascii_lowercase\n",
    "\n",
    "# path = os.path.join('/content/dataset', directory)\n",
    "for character in characters:\n",
    "    path = os.path.join('/content/dataset/',str(character))\n",
    "    os.mkdir(path)\n",
    "    for r  in range(200):\n",
    "      image = ImageCaptcha(width = 200, height = 50)\n",
    "      data = image.generate(character)\n",
    "      image.write(str(character), '/content/dataset/'+str(character)+\"/\"+str(r)+'.png')"
   ]
  },
  {
   "cell_type": "code",
   "execution_count": null,
   "id": "de7c0124",
   "metadata": {},
   "outputs": [],
   "source": []
  }
 ],
 "metadata": {
  "kernelspec": {
   "display_name": "Python 3 (ipykernel)",
   "language": "python",
   "name": "python3"
  },
  "language_info": {
   "codemirror_mode": {
    "name": "ipython",
    "version": 3
   },
   "file_extension": ".py",
   "mimetype": "text/x-python",
   "name": "python",
   "nbconvert_exporter": "python",
   "pygments_lexer": "ipython3",
   "version": "3.9.13"
  }
 },
 "nbformat": 4,
 "nbformat_minor": 5
}
